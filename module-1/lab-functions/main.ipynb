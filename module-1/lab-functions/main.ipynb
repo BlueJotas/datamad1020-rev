{
 "cells": [
  {
   "cell_type": "markdown",
   "metadata": {},
   "source": [
    "# Functions"
   ]
  },
  {
   "cell_type": "markdown",
   "metadata": {},
   "source": [
    "On this lab we will put to practice some of the concepts we have learned on this past few days.\n",
    "\n",
    "`NOTE: On this lab you should try to write all the functions yourself using only the most basic of python syntax and without functions such as len, count, sum, max, min, in, etc. Give it a try. 🧑🏻‍💻👩🏻‍💻`\n",
    "\n",
    "The cell after each exercise contains a few tests to check if your function works as expected."
   ]
  },
  {
   "cell_type": "code",
   "execution_count": 1,
   "metadata": {},
   "outputs": [],
   "source": [
    "from mod.testing import *\n",
    "import unittest"
   ]
  },
  {
   "cell_type": "markdown",
   "metadata": {},
   "source": [
    "## 1. Write a function that returns the greater of two numbers"
   ]
  },
  {
   "cell_type": "code",
   "execution_count": 2,
   "metadata": {},
   "outputs": [],
   "source": [
    "def greater(a,b):\n",
    "    if a > b:\n",
    "        return a\n",
    "    else: \n",
    "        return b"
   ]
  },
  {
   "cell_type": "code",
   "execution_count": 3,
   "metadata": {},
   "outputs": [
    {
     "name": "stderr",
     "output_type": "stream",
     "text": [
      "....................................................................................................\n",
      "----------------------------------------------------------------------\n",
      "Ran 100 tests in 0.104s\n",
      "\n",
      "OK\n"
     ]
    }
   ],
   "source": [
    "# This will test your function \n",
    "test_greater(greater)"
   ]
  },
  {
   "cell_type": "markdown",
   "metadata": {},
   "source": [
    "## 2. Now write a function that returns the largest element on a list"
   ]
  },
  {
   "cell_type": "code",
   "execution_count": 4,
   "metadata": {},
   "outputs": [],
   "source": [
    "def greatest(arr):\n",
    "    max_ = 0\n",
    "    for i in arr:\n",
    "        if i > max_:\n",
    "            max_ = i\n",
    "    return max_"
   ]
  },
  {
   "cell_type": "code",
   "execution_count": 5,
   "metadata": {},
   "outputs": [
    {
     "name": "stderr",
     "output_type": "stream",
     "text": [
      "....................................................................................................\n",
      "----------------------------------------------------------------------\n",
      "Ran 100 tests in 0.099s\n",
      "\n",
      "OK\n"
     ]
    }
   ],
   "source": [
    "# This will test your function \n",
    "test_greatest(greatest)"
   ]
  },
  {
   "cell_type": "markdown",
   "metadata": {},
   "source": [
    "## 3. Write a function that sums all the elements on a list"
   ]
  },
  {
   "cell_type": "code",
   "execution_count": 6,
   "metadata": {},
   "outputs": [],
   "source": [
    "def sum_all(arr):\n",
    "    sum_ = 0\n",
    "    for i in arr:\n",
    "        sum_ += i\n",
    "    return sum_"
   ]
  },
  {
   "cell_type": "code",
   "execution_count": 7,
   "metadata": {},
   "outputs": [
    {
     "name": "stderr",
     "output_type": "stream",
     "text": [
      "....................................................................................................\n",
      "----------------------------------------------------------------------\n",
      "Ran 100 tests in 0.110s\n",
      "\n",
      "OK\n"
     ]
    }
   ],
   "source": [
    "# This will test your function \n",
    "test_sum(sum_all)"
   ]
  },
  {
   "cell_type": "markdown",
   "metadata": {},
   "source": [
    "## 4. Write another function that multiplies all the elements on a list"
   ]
  },
  {
   "cell_type": "code",
   "execution_count": 8,
   "metadata": {},
   "outputs": [],
   "source": [
    "def mult_all(arr):\n",
    "    mult = 1\n",
    "    for i in arr:\n",
    "        mult *= i\n",
    "    return mult"
   ]
  },
  {
   "cell_type": "code",
   "execution_count": 9,
   "metadata": {},
   "outputs": [
    {
     "name": "stderr",
     "output_type": "stream",
     "text": [
      "....................................................................................................\n",
      "----------------------------------------------------------------------\n",
      "Ran 100 tests in 0.109s\n",
      "\n",
      "OK\n"
     ]
    }
   ],
   "source": [
    "# This will test your function \n",
    "test_mult(mult_all)"
   ]
  },
  {
   "cell_type": "markdown",
   "metadata": {},
   "source": [
    "## 5. Now combine those two ideas and write a function that receives a list and either \"+\" or \"*\" and outputs acordingly"
   ]
  },
  {
   "cell_type": "code",
   "execution_count": 10,
   "metadata": {},
   "outputs": [],
   "source": [
    "def oper_all(arr, oper):\n",
    "    sum_ = 0\n",
    "    mult = 1\n",
    "    result = 0\n",
    "    for i in arr:\n",
    "        if oper == \"+\":\n",
    "            sum_ += i\n",
    "            result = sum_\n",
    "        elif oper == \"*\":\n",
    "            mult *= i\n",
    "            result = mult\n",
    "    return result"
   ]
  },
  {
   "cell_type": "code",
   "execution_count": 11,
   "metadata": {},
   "outputs": [
    {
     "name": "stderr",
     "output_type": "stream",
     "text": [
      "....................................................................................................\n",
      "----------------------------------------------------------------------\n",
      "Ran 100 tests in 0.181s\n",
      "\n",
      "OK\n"
     ]
    }
   ],
   "source": [
    "# This will test your function \n",
    "test_operations(oper_all)"
   ]
  },
  {
   "cell_type": "markdown",
   "metadata": {},
   "source": [
    "## 6. Write a function that returns the factorial of a number."
   ]
  },
  {
   "cell_type": "code",
   "execution_count": 12,
   "metadata": {},
   "outputs": [],
   "source": [
    "def factorial(n):\n",
    "    factorial = 1\n",
    "    if n == 0:\n",
    "        pass\n",
    "    else:\n",
    "        for i in range(1, n+1):\n",
    "            factorial *= i\n",
    "    return factorial"
   ]
  },
  {
   "cell_type": "code",
   "execution_count": 13,
   "metadata": {},
   "outputs": [
    {
     "name": "stderr",
     "output_type": "stream",
     "text": [
      "....................................................................................................\n",
      "----------------------------------------------------------------------\n",
      "Ran 100 tests in 0.094s\n",
      "\n",
      "OK\n"
     ]
    }
   ],
   "source": [
    "# This will test your function \n",
    "test_factorial(factorial)"
   ]
  },
  {
   "cell_type": "markdown",
   "metadata": {},
   "source": [
    "## 7. Write a function that takes a list and returns a list of the unique values.\n",
    "\n",
    "`NOTE: You cannot use set. 🤔`"
   ]
  },
  {
   "cell_type": "code",
   "execution_count": 14,
   "metadata": {},
   "outputs": [],
   "source": [
    "def unique(arr):\n",
    "    lst = []\n",
    "    for i in arr:\n",
    "        if i not in lst:\n",
    "            lst.append(i)\n",
    "    return lst"
   ]
  },
  {
   "cell_type": "code",
   "execution_count": 15,
   "metadata": {},
   "outputs": [
    {
     "name": "stderr",
     "output_type": "stream",
     "text": [
      "....................................................................................................\n",
      "----------------------------------------------------------------------\n",
      "Ran 100 tests in 0.351s\n",
      "\n",
      "OK\n"
     ]
    }
   ],
   "source": [
    "# This will test your function \n",
    "test_unique(unique)"
   ]
  },
  {
   "cell_type": "markdown",
   "metadata": {},
   "source": [
    "## 8. Write a function that returns the mode of a list, i.e.: the element that appears the most times.\n",
    "`NOTE: You should not use count... 🧐`"
   ]
  },
  {
   "cell_type": "code",
   "execution_count": 45,
   "metadata": {},
   "outputs": [],
   "source": [
    "def mode_counter(arr):\n",
    "    one = 0\n",
    "    for i in arr:\n",
    "        one += 1\n",
    "    return i\n",
    "            "
   ]
  },
  {
   "cell_type": "code",
   "execution_count": 46,
   "metadata": {},
   "outputs": [
    {
     "name": "stderr",
     "output_type": "stream",
     "text": [
      "....................................................................................................\n",
      "----------------------------------------------------------------------\n",
      "Ran 100 tests in 0.094s\n",
      "\n",
      "OK\n"
     ]
    }
   ],
   "source": [
    "# This will test your function \n",
    "test_mode(mode_counter)"
   ]
  },
  {
   "cell_type": "markdown",
   "metadata": {},
   "source": [
    "## 9. Write a function that calculates the standard deviation of a list.\n",
    "`NOTE: Do not use any libraries or already built functions. 😉`"
   ]
  },
  {
   "cell_type": "code",
   "execution_count": 38,
   "metadata": {},
   "outputs": [],
   "source": [
    "def st_dev(arr):\n",
    "    counter_1 = 0\n",
    "    counter_2 = 0\n",
    "    variance = 0\n",
    "    for i in arr:\n",
    "        counter_1 += i\n",
    "        counter_2 += 1\n",
    "        median = counter_1 / counter_2\n",
    "    for i in arr:\n",
    "        variance += (i-median) ** 2\n",
    "        std = (variance/counter_2) ** (0.5)\n",
    "    return std"
   ]
  },
  {
   "cell_type": "code",
   "execution_count": 41,
   "metadata": {},
   "outputs": [
    {
     "data": {
      "text/plain": [
       "1.247219128924647"
      ]
     },
     "execution_count": 41,
     "metadata": {},
     "output_type": "execute_result"
    }
   ],
   "source": [
    "lst = [1, 2, 4]\n",
    "st_dev(lst)"
   ]
  },
  {
   "cell_type": "code",
   "execution_count": 43,
   "metadata": {
    "scrolled": true
   },
   "outputs": [
    {
     "name": "stderr",
     "output_type": "stream",
     "text": [
      "F....F..FFF.F..FF.FFFF..F....FF.F.F..F...FF..F.FFF..F.FFFFFFFF.F.F.......FF..FFF.FF.....F.F.F.FFF..F\n",
      "======================================================================\n",
      "FAIL: runTest (mod.testing.test_stdev.<locals>.TestKnown)\n",
      "----------------------------------------------------------------------\n",
      "Traceback (most recent call last):\n",
      "  File \"/Users/javier/Ironhack/datamad1020-rev/module-1/lab-functions/mod/testing.py\", line 142, in runTest\n",
      "    self.assertAlmostEqual(fn(self.input), self.output, delta=5,msg=f\"Should be {self.output}\")\n",
      "AssertionError: 567.4909456056896 != 573.3718378642103 within 5 delta (5.880892258520703 difference) : Should be 573.3718378642103\n",
      "\n",
      "======================================================================\n",
      "FAIL: runTest (mod.testing.test_stdev.<locals>.TestKnown)\n",
      "----------------------------------------------------------------------\n",
      "Traceback (most recent call last):\n",
      "  File \"/Users/javier/Ironhack/datamad1020-rev/module-1/lab-functions/mod/testing.py\", line 142, in runTest\n",
      "    self.assertAlmostEqual(fn(self.input), self.output, delta=5,msg=f\"Should be {self.output}\")\n",
      "AssertionError: 541.9385963812308 != 550.8968660187198 within 5 delta (8.958269637489025 difference) : Should be 550.8968660187198\n",
      "\n",
      "======================================================================\n",
      "FAIL: runTest (mod.testing.test_stdev.<locals>.TestKnown)\n",
      "----------------------------------------------------------------------\n",
      "Traceback (most recent call last):\n",
      "  File \"/Users/javier/Ironhack/datamad1020-rev/module-1/lab-functions/mod/testing.py\", line 142, in runTest\n",
      "    self.assertAlmostEqual(fn(self.input), self.output, delta=5,msg=f\"Should be {self.output}\")\n",
      "AssertionError: 530.9092336737043 != 541.8569675969235 within 5 delta (10.947733923219175 difference) : Should be 541.8569675969235\n",
      "\n",
      "======================================================================\n",
      "FAIL: runTest (mod.testing.test_stdev.<locals>.TestKnown)\n",
      "----------------------------------------------------------------------\n",
      "Traceback (most recent call last):\n",
      "  File \"/Users/javier/Ironhack/datamad1020-rev/module-1/lab-functions/mod/testing.py\", line 142, in runTest\n",
      "    self.assertAlmostEqual(fn(self.input), self.output, delta=5,msg=f\"Should be {self.output}\")\n",
      "AssertionError: 551.0190344546738 != 561.9313618090873 within 5 delta (10.912327354413492 difference) : Should be 561.9313618090873\n",
      "\n",
      "======================================================================\n",
      "FAIL: runTest (mod.testing.test_stdev.<locals>.TestKnown)\n",
      "----------------------------------------------------------------------\n",
      "Traceback (most recent call last):\n",
      "  File \"/Users/javier/Ironhack/datamad1020-rev/module-1/lab-functions/mod/testing.py\", line 142, in runTest\n",
      "    self.assertAlmostEqual(fn(self.input), self.output, delta=5,msg=f\"Should be {self.output}\")\n",
      "AssertionError: 535.0514576036 != 551.5184187100832 within 5 delta (16.466961106483154 difference) : Should be 551.5184187100832\n",
      "\n",
      "======================================================================\n",
      "FAIL: runTest (mod.testing.test_stdev.<locals>.TestKnown)\n",
      "----------------------------------------------------------------------\n",
      "Traceback (most recent call last):\n",
      "  File \"/Users/javier/Ironhack/datamad1020-rev/module-1/lab-functions/mod/testing.py\", line 142, in runTest\n",
      "    self.assertAlmostEqual(fn(self.input), self.output, delta=5,msg=f\"Should be {self.output}\")\n",
      "AssertionError: 624.629773390789 != 634.0232294141282 within 5 delta (9.39345602333924 difference) : Should be 634.0232294141282\n",
      "\n",
      "======================================================================\n",
      "FAIL: runTest (mod.testing.test_stdev.<locals>.TestKnown)\n",
      "----------------------------------------------------------------------\n",
      "Traceback (most recent call last):\n",
      "  File \"/Users/javier/Ironhack/datamad1020-rev/module-1/lab-functions/mod/testing.py\", line 142, in runTest\n",
      "    self.assertAlmostEqual(fn(self.input), self.output, delta=5,msg=f\"Should be {self.output}\")\n",
      "AssertionError: 609.1471035413607 != 615.732669024454 within 5 delta (6.585565483093319 difference) : Should be 615.732669024454\n",
      "\n",
      "======================================================================\n",
      "FAIL: runTest (mod.testing.test_stdev.<locals>.TestKnown)\n",
      "----------------------------------------------------------------------\n",
      "Traceback (most recent call last):\n",
      "  File \"/Users/javier/Ironhack/datamad1020-rev/module-1/lab-functions/mod/testing.py\", line 142, in runTest\n",
      "    self.assertAlmostEqual(fn(self.input), self.output, delta=5,msg=f\"Should be {self.output}\")\n",
      "AssertionError: 555.612573289358 != 567.5625979010878 within 5 delta (11.95002461172976 difference) : Should be 567.5625979010878\n",
      "\n",
      "======================================================================\n",
      "FAIL: runTest (mod.testing.test_stdev.<locals>.TestKnown)\n",
      "----------------------------------------------------------------------\n",
      "Traceback (most recent call last):\n",
      "  File \"/Users/javier/Ironhack/datamad1020-rev/module-1/lab-functions/mod/testing.py\", line 142, in runTest\n",
      "    self.assertAlmostEqual(fn(self.input), self.output, delta=5,msg=f\"Should be {self.output}\")\n",
      "AssertionError: 671.5308740808199 != 693.5541044744334 within 5 delta (22.023230393613517 difference) : Should be 693.5541044744334\n",
      "\n",
      "======================================================================\n",
      "FAIL: runTest (mod.testing.test_stdev.<locals>.TestKnown)\n",
      "----------------------------------------------------------------------\n",
      "Traceback (most recent call last):\n",
      "  File \"/Users/javier/Ironhack/datamad1020-rev/module-1/lab-functions/mod/testing.py\", line 142, in runTest\n",
      "    self.assertAlmostEqual(fn(self.input), self.output, delta=5,msg=f\"Should be {self.output}\")\n",
      "AssertionError: 551.4450199249242 != 560.8721133968126 within 5 delta (9.427093471888384 difference) : Should be 560.8721133968126\n",
      "\n",
      "======================================================================\n",
      "FAIL: runTest (mod.testing.test_stdev.<locals>.TestKnown)\n",
      "----------------------------------------------------------------------\n",
      "Traceback (most recent call last):\n",
      "  File \"/Users/javier/Ironhack/datamad1020-rev/module-1/lab-functions/mod/testing.py\", line 142, in runTest\n",
      "    self.assertAlmostEqual(fn(self.input), self.output, delta=5,msg=f\"Should be {self.output}\")\n",
      "AssertionError: 608.5023911494532 != 617.6533165373518 within 5 delta (9.15092538789861 difference) : Should be 617.6533165373518\n",
      "\n",
      "======================================================================\n",
      "FAIL: runTest (mod.testing.test_stdev.<locals>.TestKnown)\n",
      "----------------------------------------------------------------------\n",
      "Traceback (most recent call last):\n",
      "  File \"/Users/javier/Ironhack/datamad1020-rev/module-1/lab-functions/mod/testing.py\", line 142, in runTest\n",
      "    self.assertAlmostEqual(fn(self.input), self.output, delta=5,msg=f\"Should be {self.output}\")\n",
      "AssertionError: 534.0747252306343 != 544.6514891335418 within 5 delta (10.576763902907487 difference) : Should be 544.6514891335418\n",
      "\n",
      "======================================================================\n",
      "FAIL: runTest (mod.testing.test_stdev.<locals>.TestKnown)\n",
      "----------------------------------------------------------------------\n",
      "Traceback (most recent call last):\n",
      "  File \"/Users/javier/Ironhack/datamad1020-rev/module-1/lab-functions/mod/testing.py\", line 142, in runTest\n",
      "    self.assertAlmostEqual(fn(self.input), self.output, delta=5,msg=f\"Should be {self.output}\")\n",
      "AssertionError: 598.1779083182529 != 605.7983162736589 within 5 delta (7.6204079554059945 difference) : Should be 605.7983162736589\n",
      "\n",
      "======================================================================\n",
      "FAIL: runTest (mod.testing.test_stdev.<locals>.TestKnown)\n",
      "----------------------------------------------------------------------\n",
      "Traceback (most recent call last):\n",
      "  File \"/Users/javier/Ironhack/datamad1020-rev/module-1/lab-functions/mod/testing.py\", line 142, in runTest\n",
      "    self.assertAlmostEqual(fn(self.input), self.output, delta=5,msg=f\"Should be {self.output}\")\n",
      "AssertionError: 677.0703423727184 != 704.7171554820908 within 5 delta (27.646813109372374 difference) : Should be 704.7171554820908\n",
      "\n",
      "======================================================================\n",
      "FAIL: runTest (mod.testing.test_stdev.<locals>.TestKnown)\n",
      "----------------------------------------------------------------------\n",
      "Traceback (most recent call last):\n",
      "  File \"/Users/javier/Ironhack/datamad1020-rev/module-1/lab-functions/mod/testing.py\", line 142, in runTest\n",
      "    self.assertAlmostEqual(fn(self.input), self.output, delta=5,msg=f\"Should be {self.output}\")\n",
      "AssertionError: 495.9873618732601 != 507.1345371153279 within 5 delta (11.14717524206776 difference) : Should be 507.1345371153279\n",
      "\n",
      "======================================================================\n",
      "FAIL: runTest (mod.testing.test_stdev.<locals>.TestKnown)\n",
      "----------------------------------------------------------------------\n",
      "Traceback (most recent call last):\n",
      "  File \"/Users/javier/Ironhack/datamad1020-rev/module-1/lab-functions/mod/testing.py\", line 142, in runTest\n",
      "    self.assertAlmostEqual(fn(self.input), self.output, delta=5,msg=f\"Should be {self.output}\")\n",
      "AssertionError: 605.8099635292881 != 622.4105703863447 within 5 delta (16.60060685705662 difference) : Should be 622.4105703863447\n",
      "\n",
      "======================================================================\n",
      "FAIL: runTest (mod.testing.test_stdev.<locals>.TestKnown)\n",
      "----------------------------------------------------------------------\n",
      "Traceback (most recent call last):\n",
      "  File \"/Users/javier/Ironhack/datamad1020-rev/module-1/lab-functions/mod/testing.py\", line 142, in runTest\n",
      "    self.assertAlmostEqual(fn(self.input), self.output, delta=5,msg=f\"Should be {self.output}\")\n",
      "AssertionError: 573.9678382868524 != 579.4604786342068 within 5 delta (5.4926403473543814 difference) : Should be 579.4604786342068\n",
      "\n",
      "======================================================================\n",
      "FAIL: runTest (mod.testing.test_stdev.<locals>.TestKnown)\n",
      "----------------------------------------------------------------------\n",
      "Traceback (most recent call last):\n",
      "  File \"/Users/javier/Ironhack/datamad1020-rev/module-1/lab-functions/mod/testing.py\", line 142, in runTest\n",
      "    self.assertAlmostEqual(fn(self.input), self.output, delta=5,msg=f\"Should be {self.output}\")\n",
      "AssertionError: 548.1406020886609 != 555.3061428443789 within 5 delta (7.165540755717984 difference) : Should be 555.3061428443789\n",
      "\n",
      "======================================================================\n",
      "FAIL: runTest (mod.testing.test_stdev.<locals>.TestKnown)\n",
      "----------------------------------------------------------------------\n",
      "Traceback (most recent call last):\n",
      "  File \"/Users/javier/Ironhack/datamad1020-rev/module-1/lab-functions/mod/testing.py\", line 142, in runTest\n",
      "    self.assertAlmostEqual(fn(self.input), self.output, delta=5,msg=f\"Should be {self.output}\")\n",
      "AssertionError: 540.2368185833517 != 550.15024763563 within 5 delta (9.913429052278275 difference) : Should be 550.15024763563\n",
      "\n",
      "======================================================================\n",
      "FAIL: runTest (mod.testing.test_stdev.<locals>.TestKnown)\n",
      "----------------------------------------------------------------------\n",
      "Traceback (most recent call last):\n",
      "  File \"/Users/javier/Ironhack/datamad1020-rev/module-1/lab-functions/mod/testing.py\", line 142, in runTest\n",
      "    self.assertAlmostEqual(fn(self.input), self.output, delta=5,msg=f\"Should be {self.output}\")\n",
      "AssertionError: 615.5827695548662 != 622.5387278529487 within 5 delta (6.955958298082464 difference) : Should be 622.5387278529487\n",
      "\n",
      "======================================================================\n",
      "FAIL: runTest (mod.testing.test_stdev.<locals>.TestKnown)\n",
      "----------------------------------------------------------------------\n",
      "Traceback (most recent call last):\n",
      "  File \"/Users/javier/Ironhack/datamad1020-rev/module-1/lab-functions/mod/testing.py\", line 142, in runTest\n",
      "    self.assertAlmostEqual(fn(self.input), self.output, delta=5,msg=f\"Should be {self.output}\")\n",
      "AssertionError: 613.3899477406154 != 619.4934806348002 within 5 delta (6.103532894184809 difference) : Should be 619.4934806348002\n",
      "\n",
      "======================================================================\n",
      "FAIL: runTest (mod.testing.test_stdev.<locals>.TestKnown)\n",
      "----------------------------------------------------------------------\n",
      "Traceback (most recent call last):\n",
      "  File \"/Users/javier/Ironhack/datamad1020-rev/module-1/lab-functions/mod/testing.py\", line 142, in runTest\n",
      "    self.assertAlmostEqual(fn(self.input), self.output, delta=5,msg=f\"Should be {self.output}\")\n",
      "AssertionError: 609.6132203290871 != 622.1838876088001 within 5 delta (12.570667279713007 difference) : Should be 622.1838876088001\n",
      "\n",
      "======================================================================\n",
      "FAIL: runTest (mod.testing.test_stdev.<locals>.TestKnown)\n",
      "----------------------------------------------------------------------\n",
      "Traceback (most recent call last):\n",
      "  File \"/Users/javier/Ironhack/datamad1020-rev/module-1/lab-functions/mod/testing.py\", line 142, in runTest\n",
      "    self.assertAlmostEqual(fn(self.input), self.output, delta=5,msg=f\"Should be {self.output}\")\n",
      "AssertionError: 504.5327816714021 != 510.8005099602092 within 5 delta (6.267728288807064 difference) : Should be 510.8005099602092\n",
      "\n",
      "======================================================================\n",
      "FAIL: runTest (mod.testing.test_stdev.<locals>.TestKnown)\n",
      "----------------------------------------------------------------------\n",
      "Traceback (most recent call last):\n",
      "  File \"/Users/javier/Ironhack/datamad1020-rev/module-1/lab-functions/mod/testing.py\", line 142, in runTest\n",
      "    self.assertAlmostEqual(fn(self.input), self.output, delta=5,msg=f\"Should be {self.output}\")\n",
      "AssertionError: 544.2825309204223 != 553.2795459024113 within 5 delta (8.997014981988968 difference) : Should be 553.2795459024113\n",
      "\n",
      "======================================================================\n",
      "FAIL: runTest (mod.testing.test_stdev.<locals>.TestKnown)\n",
      "----------------------------------------------------------------------\n",
      "Traceback (most recent call last):\n",
      "  File \"/Users/javier/Ironhack/datamad1020-rev/module-1/lab-functions/mod/testing.py\", line 142, in runTest\n",
      "    self.assertAlmostEqual(fn(self.input), self.output, delta=5,msg=f\"Should be {self.output}\")\n",
      "AssertionError: 542.8494509005008 != 549.1253755913974 within 5 delta (6.275924690896659 difference) : Should be 549.1253755913974\n",
      "\n",
      "======================================================================\n",
      "FAIL: runTest (mod.testing.test_stdev.<locals>.TestKnown)\n",
      "----------------------------------------------------------------------\n",
      "Traceback (most recent call last):\n",
      "  File \"/Users/javier/Ironhack/datamad1020-rev/module-1/lab-functions/mod/testing.py\", line 142, in runTest\n",
      "    self.assertAlmostEqual(fn(self.input), self.output, delta=5,msg=f\"Should be {self.output}\")\n",
      "AssertionError: 566.2261567660581 != 575.0053804096098 within 5 delta (8.779223643551632 difference) : Should be 575.0053804096098\n",
      "\n",
      "======================================================================\n",
      "FAIL: runTest (mod.testing.test_stdev.<locals>.TestKnown)\n",
      "----------------------------------------------------------------------\n",
      "Traceback (most recent call last):\n",
      "  File \"/Users/javier/Ironhack/datamad1020-rev/module-1/lab-functions/mod/testing.py\", line 142, in runTest\n",
      "    self.assertAlmostEqual(fn(self.input), self.output, delta=5,msg=f\"Should be {self.output}\")\n",
      "AssertionError: 633.3134986718663 != 639.7432421826488 within 5 delta (6.429743510782487 difference) : Should be 639.7432421826488\n",
      "\n",
      "======================================================================\n",
      "FAIL: runTest (mod.testing.test_stdev.<locals>.TestKnown)\n",
      "----------------------------------------------------------------------\n",
      "Traceback (most recent call last):\n",
      "  File \"/Users/javier/Ironhack/datamad1020-rev/module-1/lab-functions/mod/testing.py\", line 142, in runTest\n",
      "    self.assertAlmostEqual(fn(self.input), self.output, delta=5,msg=f\"Should be {self.output}\")\n",
      "AssertionError: 538.5425594383848 != 544.768691822366 within 5 delta (6.226132383981167 difference) : Should be 544.768691822366\n",
      "\n",
      "======================================================================\n",
      "FAIL: runTest (mod.testing.test_stdev.<locals>.TestKnown)\n",
      "----------------------------------------------------------------------\n",
      "Traceback (most recent call last):\n",
      "  File \"/Users/javier/Ironhack/datamad1020-rev/module-1/lab-functions/mod/testing.py\", line 142, in runTest\n",
      "    self.assertAlmostEqual(fn(self.input), self.output, delta=5,msg=f\"Should be {self.output}\")\n",
      "AssertionError: 454.756374336853 != 464.133781001412 within 5 delta (9.377406664558976 difference) : Should be 464.133781001412\n",
      "\n",
      "======================================================================\n",
      "FAIL: runTest (mod.testing.test_stdev.<locals>.TestKnown)\n",
      "----------------------------------------------------------------------\n",
      "Traceback (most recent call last):\n",
      "  File \"/Users/javier/Ironhack/datamad1020-rev/module-1/lab-functions/mod/testing.py\", line 142, in runTest\n",
      "    self.assertAlmostEqual(fn(self.input), self.output, delta=5,msg=f\"Should be {self.output}\")\n",
      "AssertionError: 615.5700342999387 != 624.8272460000672 within 5 delta (9.25721170012855 difference) : Should be 624.8272460000672\n",
      "\n",
      "======================================================================\n",
      "FAIL: runTest (mod.testing.test_stdev.<locals>.TestKnown)\n",
      "----------------------------------------------------------------------\n",
      "Traceback (most recent call last):\n",
      "  File \"/Users/javier/Ironhack/datamad1020-rev/module-1/lab-functions/mod/testing.py\", line 142, in runTest\n",
      "    self.assertAlmostEqual(fn(self.input), self.output, delta=5,msg=f\"Should be {self.output}\")\n",
      "AssertionError: 501.83651256502736 != 507.77561293321384 within 5 delta (5.939100368186473 difference) : Should be 507.77561293321384\n",
      "\n",
      "======================================================================\n",
      "FAIL: runTest (mod.testing.test_stdev.<locals>.TestKnown)\n",
      "----------------------------------------------------------------------\n",
      "Traceback (most recent call last):\n",
      "  File \"/Users/javier/Ironhack/datamad1020-rev/module-1/lab-functions/mod/testing.py\", line 142, in runTest\n",
      "    self.assertAlmostEqual(fn(self.input), self.output, delta=5,msg=f\"Should be {self.output}\")\n",
      "AssertionError: 568.7801762446445 != 574.7991817067767 within 5 delta (6.019005462132213 difference) : Should be 574.7991817067767\n",
      "\n",
      "======================================================================\n",
      "FAIL: runTest (mod.testing.test_stdev.<locals>.TestKnown)\n",
      "----------------------------------------------------------------------\n",
      "Traceback (most recent call last):\n",
      "  File \"/Users/javier/Ironhack/datamad1020-rev/module-1/lab-functions/mod/testing.py\", line 142, in runTest\n",
      "    self.assertAlmostEqual(fn(self.input), self.output, delta=5,msg=f\"Should be {self.output}\")\n",
      "AssertionError: 539.232400359272 != 550.8301228830558 within 5 delta (11.597722523783773 difference) : Should be 550.8301228830558\n",
      "\n",
      "======================================================================\n",
      "FAIL: runTest (mod.testing.test_stdev.<locals>.TestKnown)\n",
      "----------------------------------------------------------------------\n",
      "Traceback (most recent call last):\n",
      "  File \"/Users/javier/Ironhack/datamad1020-rev/module-1/lab-functions/mod/testing.py\", line 142, in runTest\n",
      "    self.assertAlmostEqual(fn(self.input), self.output, delta=5,msg=f\"Should be {self.output}\")\n",
      "AssertionError: 564.816984448522 != 574.8145213807213 within 5 delta (9.997536932199296 difference) : Should be 574.8145213807213\n",
      "\n",
      "======================================================================\n",
      "FAIL: runTest (mod.testing.test_stdev.<locals>.TestKnown)\n",
      "----------------------------------------------------------------------\n",
      "Traceback (most recent call last):\n",
      "  File \"/Users/javier/Ironhack/datamad1020-rev/module-1/lab-functions/mod/testing.py\", line 142, in runTest\n",
      "    self.assertAlmostEqual(fn(self.input), self.output, delta=5,msg=f\"Should be {self.output}\")\n",
      "AssertionError: 540.236947978327 != 548.8812880275426 within 5 delta (8.644340049215657 difference) : Should be 548.8812880275426\n",
      "\n",
      "======================================================================\n",
      "FAIL: runTest (mod.testing.test_stdev.<locals>.TestKnown)\n",
      "----------------------------------------------------------------------\n",
      "Traceback (most recent call last):\n",
      "  File \"/Users/javier/Ironhack/datamad1020-rev/module-1/lab-functions/mod/testing.py\", line 142, in runTest\n",
      "    self.assertAlmostEqual(fn(self.input), self.output, delta=5,msg=f\"Should be {self.output}\")\n",
      "AssertionError: 580.3758105614282 != 586.6503259995469 within 5 delta (6.274515438118669 difference) : Should be 586.6503259995469\n",
      "\n",
      "======================================================================\n",
      "FAIL: runTest (mod.testing.test_stdev.<locals>.TestKnown)\n",
      "----------------------------------------------------------------------\n",
      "Traceback (most recent call last):\n",
      "  File \"/Users/javier/Ironhack/datamad1020-rev/module-1/lab-functions/mod/testing.py\", line 142, in runTest\n",
      "    self.assertAlmostEqual(fn(self.input), self.output, delta=5,msg=f\"Should be {self.output}\")\n",
      "AssertionError: 394.26085687510096 != 402.740555084964 within 5 delta (8.479698209863045 difference) : Should be 402.740555084964\n",
      "\n",
      "======================================================================\n",
      "FAIL: runTest (mod.testing.test_stdev.<locals>.TestKnown)\n",
      "----------------------------------------------------------------------\n",
      "Traceback (most recent call last):\n",
      "  File \"/Users/javier/Ironhack/datamad1020-rev/module-1/lab-functions/mod/testing.py\", line 142, in runTest\n",
      "    self.assertAlmostEqual(fn(self.input), self.output, delta=5,msg=f\"Should be {self.output}\")\n",
      "AssertionError: 589.4529193973395 != 596.4289364127768 within 5 delta (6.9760170154372645 difference) : Should be 596.4289364127768\n",
      "\n",
      "======================================================================\n",
      "FAIL: runTest (mod.testing.test_stdev.<locals>.TestKnown)\n",
      "----------------------------------------------------------------------\n",
      "Traceback (most recent call last):\n",
      "  File \"/Users/javier/Ironhack/datamad1020-rev/module-1/lab-functions/mod/testing.py\", line 142, in runTest\n",
      "    self.assertAlmostEqual(fn(self.input), self.output, delta=5,msg=f\"Should be {self.output}\")\n",
      "AssertionError: 622.0549256926693 != 652.4167101142978 within 5 delta (30.3617844216285 difference) : Should be 652.4167101142978\n",
      "\n",
      "======================================================================\n",
      "FAIL: runTest (mod.testing.test_stdev.<locals>.TestKnown)\n",
      "----------------------------------------------------------------------\n",
      "Traceback (most recent call last):\n",
      "  File \"/Users/javier/Ironhack/datamad1020-rev/module-1/lab-functions/mod/testing.py\", line 142, in runTest\n",
      "    self.assertAlmostEqual(fn(self.input), self.output, delta=5,msg=f\"Should be {self.output}\")\n",
      "AssertionError: 625.0526787372967 != 635.3848279349236 within 5 delta (10.332149197626904 difference) : Should be 635.3848279349236\n",
      "\n",
      "======================================================================\n",
      "FAIL: runTest (mod.testing.test_stdev.<locals>.TestKnown)\n",
      "----------------------------------------------------------------------\n",
      "Traceback (most recent call last):\n",
      "  File \"/Users/javier/Ironhack/datamad1020-rev/module-1/lab-functions/mod/testing.py\", line 142, in runTest\n",
      "    self.assertAlmostEqual(fn(self.input), self.output, delta=5,msg=f\"Should be {self.output}\")\n",
      "AssertionError: 609.2627761768994 != 622.9557842181972 within 5 delta (13.693008041297844 difference) : Should be 622.9557842181972\n",
      "\n",
      "======================================================================\n",
      "FAIL: runTest (mod.testing.test_stdev.<locals>.TestKnown)\n",
      "----------------------------------------------------------------------\n",
      "Traceback (most recent call last):\n",
      "  File \"/Users/javier/Ironhack/datamad1020-rev/module-1/lab-functions/mod/testing.py\", line 142, in runTest\n",
      "    self.assertAlmostEqual(fn(self.input), self.output, delta=5,msg=f\"Should be {self.output}\")\n",
      "AssertionError: 600.3776617552438 != 611.3946845675551 within 5 delta (11.017022812311325 difference) : Should be 611.3946845675551\n",
      "\n",
      "======================================================================\n",
      "FAIL: runTest (mod.testing.test_stdev.<locals>.TestKnown)\n",
      "----------------------------------------------------------------------\n",
      "Traceback (most recent call last):\n",
      "  File \"/Users/javier/Ironhack/datamad1020-rev/module-1/lab-functions/mod/testing.py\", line 142, in runTest\n",
      "    self.assertAlmostEqual(fn(self.input), self.output, delta=5,msg=f\"Should be {self.output}\")\n",
      "AssertionError: 535.1610008085318 != 547.1885924717595 within 5 delta (12.027591663227781 difference) : Should be 547.1885924717595\n",
      "\n",
      "======================================================================\n",
      "FAIL: runTest (mod.testing.test_stdev.<locals>.TestKnown)\n",
      "----------------------------------------------------------------------\n",
      "Traceback (most recent call last):\n",
      "  File \"/Users/javier/Ironhack/datamad1020-rev/module-1/lab-functions/mod/testing.py\", line 142, in runTest\n",
      "    self.assertAlmostEqual(fn(self.input), self.output, delta=5,msg=f\"Should be {self.output}\")\n",
      "AssertionError: 610.8025589894437 != 617.5519634299869 within 5 delta (6.7494044405432305 difference) : Should be 617.5519634299869\n",
      "\n",
      "======================================================================\n",
      "FAIL: runTest (mod.testing.test_stdev.<locals>.TestKnown)\n",
      "----------------------------------------------------------------------\n",
      "Traceback (most recent call last):\n",
      "  File \"/Users/javier/Ironhack/datamad1020-rev/module-1/lab-functions/mod/testing.py\", line 142, in runTest\n",
      "    self.assertAlmostEqual(fn(self.input), self.output, delta=5,msg=f\"Should be {self.output}\")\n",
      "AssertionError: 568.1360175169323 != 579.8513947555874 within 5 delta (11.715377238655151 difference) : Should be 579.8513947555874\n",
      "\n",
      "======================================================================\n",
      "FAIL: runTest (mod.testing.test_stdev.<locals>.TestKnown)\n",
      "----------------------------------------------------------------------\n",
      "Traceback (most recent call last):\n",
      "  File \"/Users/javier/Ironhack/datamad1020-rev/module-1/lab-functions/mod/testing.py\", line 142, in runTest\n",
      "    self.assertAlmostEqual(fn(self.input), self.output, delta=5,msg=f\"Should be {self.output}\")\n",
      "AssertionError: 615.5144596189434 != 648.8092083878656 within 5 delta (33.294748768922204 difference) : Should be 648.8092083878656\n",
      "\n",
      "======================================================================\n",
      "FAIL: runTest (mod.testing.test_stdev.<locals>.TestKnown)\n",
      "----------------------------------------------------------------------\n",
      "Traceback (most recent call last):\n",
      "  File \"/Users/javier/Ironhack/datamad1020-rev/module-1/lab-functions/mod/testing.py\", line 142, in runTest\n",
      "    self.assertAlmostEqual(fn(self.input), self.output, delta=5,msg=f\"Should be {self.output}\")\n",
      "AssertionError: 565.3195246323583 != 577.4783247704715 within 5 delta (12.158800138113293 difference) : Should be 577.4783247704715\n",
      "\n",
      "======================================================================\n",
      "FAIL: runTest (mod.testing.test_stdev.<locals>.TestKnown)\n",
      "----------------------------------------------------------------------\n",
      "Traceback (most recent call last):\n",
      "  File \"/Users/javier/Ironhack/datamad1020-rev/module-1/lab-functions/mod/testing.py\", line 142, in runTest\n",
      "    self.assertAlmostEqual(fn(self.input), self.output, delta=5,msg=f\"Should be {self.output}\")\n",
      "AssertionError: 643.7735408372156 != 659.671577738643 within 5 delta (15.898036901427417 difference) : Should be 659.671577738643\n",
      "\n",
      "======================================================================\n",
      "FAIL: runTest (mod.testing.test_stdev.<locals>.TestKnown)\n",
      "----------------------------------------------------------------------\n",
      "Traceback (most recent call last):\n",
      "  File \"/Users/javier/Ironhack/datamad1020-rev/module-1/lab-functions/mod/testing.py\", line 142, in runTest\n",
      "    self.assertAlmostEqual(fn(self.input), self.output, delta=5,msg=f\"Should be {self.output}\")\n",
      "AssertionError: 567.9755068015967 != 576.2675586562755 within 5 delta (8.292051854678789 difference) : Should be 576.2675586562755\n",
      "\n",
      "----------------------------------------------------------------------\n",
      "Ran 100 tests in 0.145s\n",
      "\n",
      "FAILED (failures=49)\n"
     ]
    }
   ],
   "source": [
    "# This will test your function \n",
    "test_stdev(st_dev)"
   ]
  },
  {
   "cell_type": "markdown",
   "metadata": {},
   "source": [
    "## 10. Write a function to check if a string is a pangram, i.e.: if it contains all the letters of the alphabet at least once."
   ]
  },
  {
   "cell_type": "code",
   "execution_count": 24,
   "metadata": {},
   "outputs": [],
   "source": [
    "def pangram(string):\n",
    "    abc = \"abcdefghijklmnopqrstuvwxyz\"\n",
    "    for character in abc: \n",
    "        if character not in string.lower(): \n",
    "            return False\n",
    "  \n",
    "    return True"
   ]
  },
  {
   "cell_type": "code",
   "execution_count": 25,
   "metadata": {},
   "outputs": [
    {
     "name": "stderr",
     "output_type": "stream",
     "text": [
      "..............................\n",
      "----------------------------------------------------------------------\n",
      "Ran 30 tests in 0.030s\n",
      "\n",
      "OK\n"
     ]
    }
   ],
   "source": [
    "# This will test your function \n",
    "test_pangram(pangram)"
   ]
  },
  {
   "cell_type": "markdown",
   "metadata": {},
   "source": [
    "## 11. Write a function that receives a string of comma separated words and returns a string of comma separated words sorted alphabetically.\n",
    "\n",
    "`NOTE: You may use sorted but not split and definitely no join! 🤪`"
   ]
  },
  {
   "cell_type": "code",
   "execution_count": 4,
   "metadata": {},
   "outputs": [],
   "source": [
    "def sort_alpha(string):\n",
    "    lst = []\n",
    "    string = \"\"\n",
    "    for i in string:\n",
    "        if i != \",\":\n",
    "            lst.append(i)\n",
    "    mai_list = sorted(lst)\n",
    "    for i in mai_list:\n",
    "        stri += i + \" \"\n",
    "    return string[:-1]"
   ]
  },
  {
   "cell_type": "code",
   "execution_count": 5,
   "metadata": {},
   "outputs": [
    {
     "ename": "NameError",
     "evalue": "name 'test_alpha' is not defined",
     "output_type": "error",
     "traceback": [
      "\u001b[0;31m---------------------------------------------------------------------------\u001b[0m",
      "\u001b[0;31mNameError\u001b[0m                                 Traceback (most recent call last)",
      "\u001b[0;32m<ipython-input-5-c5f693272644>\u001b[0m in \u001b[0;36m<module>\u001b[0;34m\u001b[0m\n\u001b[1;32m      1\u001b[0m \u001b[0;31m# This will test your function\u001b[0m\u001b[0;34m\u001b[0m\u001b[0;34m\u001b[0m\u001b[0;34m\u001b[0m\u001b[0m\n\u001b[0;32m----> 2\u001b[0;31m \u001b[0mtest_alpha\u001b[0m\u001b[0;34m(\u001b[0m\u001b[0msort_alpha\u001b[0m\u001b[0;34m)\u001b[0m\u001b[0;34m\u001b[0m\u001b[0;34m\u001b[0m\u001b[0m\n\u001b[0m",
      "\u001b[0;31mNameError\u001b[0m: name 'test_alpha' is not defined"
     ]
    }
   ],
   "source": [
    "# This will test your function \n",
    "test_alpha(sort_alpha)"
   ]
  },
  {
   "cell_type": "markdown",
   "metadata": {},
   "source": [
    "## 12. Write a function to check if a given password is strong (at least 8 characters, at least one lower case, at least one upper case, at least one number and at least one special character). It should output True if strong and False if not.\n",
    "`Valid special characters: # @ ! $ % & ( ) ^ * [ ] { }`"
   ]
  },
  {
   "cell_type": "code",
   "execution_count": null,
   "metadata": {},
   "outputs": [],
   "source": [
    "def check_pass(string):\n",
    "    char = ['#', '@', '!', '$', '%', '&', '(', ')', '^', '*', '[', ']', '{', '}']\n",
    "    "
   ]
  },
  {
   "cell_type": "code",
   "execution_count": null,
   "metadata": {},
   "outputs": [],
   "source": [
    "# This will test your function \n",
    "test_pass(check_pass)"
   ]
  }
 ],
 "metadata": {
  "kernelspec": {
   "display_name": "Python 3",
   "language": "python",
   "name": "python3"
  },
  "language_info": {
   "codemirror_mode": {
    "name": "ipython",
    "version": 3
   },
   "file_extension": ".py",
   "mimetype": "text/x-python",
   "name": "python",
   "nbconvert_exporter": "python",
   "pygments_lexer": "ipython3",
   "version": "3.8.5"
  }
 },
 "nbformat": 4,
 "nbformat_minor": 4
}
